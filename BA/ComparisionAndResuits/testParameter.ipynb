{
 "cells": [
  {
   "cell_type": "code",
   "execution_count": null,
   "metadata": {},
   "outputs": [],
   "source": [
    "import pandas as pd\n",
    "import numpy as np\n",
    "from pathlib import Path\n",
    "from collections import defaultdict\n",
    "from sklearn.neighbors import KDTree"
   ]
  },
  {
   "cell_type": "markdown",
   "metadata": {},
   "source": [
    "# bodies, coordinates, filopodia"
   ]
  },
  {
   "cell_type": "code",
   "execution_count": null,
   "metadata": {
    "scrolled": true
   },
   "outputs": [],
   "source": [
    "data_dict = defaultdict(dict)\n",
    "folder = '/Users/wangweiying/Desktop/R6_41hAPF_tif/R6_41hAPF_ED6' # Folder that contained results tables of Filopodyan\n",
    "\n",
    "# Get all csv files and their information\n",
    "for each_file in Path(folder).rglob('*/*.csv'):\n",
    "    if '__MACOSX' in str(each_file):\n",
    "        next\n",
    "    else:\n",
    "        file_name = each_file.name\n",
    "        file_type = file_name.split('_')[-3]\n",
    "        file_parameter = each_file.parent.name.split('_')[-1]\n",
    "        table_type = file_name.split('_')[-1].replace('.csv','')\n",
    "\n",
    "        if table_type == 'Bodies':\n",
    "            Bodies = pd.read_csv(each_file)\n",
    "\n",
    "        elif table_type == 'Coordinates':\n",
    "            coordinates_list = []\n",
    "            coordinates_all_list = []\n",
    "            with open(each_file,encoding='utf-8') as f:\n",
    "                line_num = 1\n",
    "                for each_line in f:\n",
    "                    if line_num == 2:\n",
    "                        line_values = each_line.strip().split(',')\n",
    "                        # 9 data per group\n",
    "                        index = 0\n",
    "                        for i in range(1, len(line_values),9):\n",
    "                            group_values = line_values[i:i+9] # data of each group\n",
    "                            tip_x = float(group_values[3])\n",
    "                            tip_y = float(group_values[4])\n",
    "                            coordinates_list.append([tip_x, tip_y])\n",
    "                            coordinates_all_list.append(group_values)\n",
    "                            index += 1\n",
    "                    line_num +=1\n",
    "            data_dict[file_type][file_parameter+'_coordinates'] = coordinates_list\n",
    "            data_dict[file_type][file_parameter+'_coordinates_all'] = coordinates_all_list\n",
    "        elif table_type == 'Filopodia':\n",
    "            filopodia_list = []\n",
    "            with open(each_file,encoding='utf-8') as f:\n",
    "                line_num = 1\n",
    "                for each_line in f:\n",
    "                    if line_num == 2:\n",
    "                        line_values = each_line.strip().split(',')\n",
    "                        # 13 data per group\n",
    "                        index = 0\n",
    "                        for i in range(1, len(line_values),13):\n",
    "                            group_values = line_values[i:i+13] \n",
    "                            filopodia_list.append(group_values)\n",
    "                            index += 1\n",
    "                    line_num +=1\n",
    "            data_dict[file_type][file_parameter+'_filopodia'] = filopodia_list"
   ]
  },
  {
   "cell_type": "markdown",
   "metadata": {},
   "source": [
    "# Read manual data"
   ]
  },
  {
   "cell_type": "code",
   "execution_count": null,
   "metadata": {},
   "outputs": [],
   "source": [
    "filename = '/Users/wangweiying/Desktop/R6_41hAPF_tif/41hAPF_R6_Front_Heel_L-cell_Coordinates.xlsx' # File of mannually annotated data\n",
    "human_marker = pd.read_excel(filename,sheet_name='Front and Front Filopodia')"
   ]
  },
  {
   "cell_type": "code",
   "execution_count": null,
   "metadata": {
    "scrolled": true
   },
   "outputs": [],
   "source": [
    "with open('result.csv','w') as fw:\n",
    "    fw.write('tag,index,x,y,par,index,distance,c_x,c_y,T,BaseX,BaseY,TipX,TipY,' + \\\n",
    "             'body:base,base:tip,base:tip;body:base,base:tip;body:base,' + \\\n",
    "            'T,dT,BaseMean,BaseLocalBackground,BodyMean,ProjMean,TipMean,TipThMean,TipLocalBackground,Length,dL,DCTM,DCBM')\n",
    "    fw.write('\\n')\n",
    "    flag = ''\n",
    "    for index,row in human_marker.iterrows():\n",
    "        try:\n",
    "            if np.isnan(float(row[0])):\n",
    "                next\n",
    "            else:\n",
    "                flag_index = row[0]\n",
    "                flag_label = row[1]\n",
    "                flag_x = float(row[2])\n",
    "                flag_y = float(row[3])\n",
    "                if flag_index ==1:\n",
    "                    next\n",
    "                else:\n",
    "                    table_values = data_dict[flag]\n",
    "                    # Iterate through all loG's to find the nearest\n",
    "                    for key in table_values.keys():\n",
    "                        if key.split('_')[-1] == 'coordinates':\n",
    "                            # Calculate the index of the nearest point,kd-tree algorithm\n",
    "                            tree = KDTree(np.array(table_values[key]))\n",
    "                            dist,ind = tree.query(np.array([[flag_x, flag_y]]),k=3)\n",
    "                            #print(f'## manual coordinates{flag_x=}, {flag_y=}')\n",
    "                            for each_index in ind[0]:\n",
    "                                print(each_index, table_values[key][each_index])\n",
    "                            result_list = [str(flag), str(flag_index), str(flag_x), str(flag_y), key.split('_')[0], \n",
    "                                           ind[0][0], dist[0][0]]\n",
    "                            result_list.extend(table_values[key][ind[0][0]])\n",
    "                            result_list.extend(table_values[key+'_all'][ind[0][0]])\n",
    "                            result_list.extend(table_values[key.split('_')[0] + '_filopodia'][ind[0][0]])\n",
    "                            result_list = [str(i) for i in result_list]\n",
    "                            fw.write(','.join(result_list))\n",
    "                            fw.write('\\n')\n",
    "        except Exception as e:\n",
    "            # print(e)\n",
    "            # print(row[0])\n",
    "            if row[0].strip() != '':\n",
    "                flag = row[0].strip()"
   ]
  },
  {
   "cell_type": "markdown",
   "metadata": {},
   "source": [
    "# Plots (heatmap)"
   ]
  },
  {
   "cell_type": "code",
   "execution_count": null,
   "metadata": {},
   "outputs": [],
   "source": [
    "import seaborn as sns\n",
    "\n",
    "df = pd.read_csv('./result.csv')"
   ]
  },
  {
   "cell_type": "code",
   "execution_count": null,
   "metadata": {},
   "outputs": [],
   "source": [
    "df.columns"
   ]
  },
  {
   "cell_type": "code",
   "execution_count": null,
   "metadata": {},
   "outputs": [],
   "source": [
    "df"
   ]
  },
  {
   "cell_type": "code",
   "execution_count": null,
   "metadata": {},
   "outputs": [],
   "source": [
    "sub_df = df[['tag','par','distance']].copy()"
   ]
  },
  {
   "cell_type": "code",
   "execution_count": null,
   "metadata": {},
   "outputs": [],
   "source": [
    "new_tag_list = []\n",
    "for i in sub_df['tag']:\n",
    "    if len(i.replace('T',''))==1:\n",
    "        tag_name = 'T0'+i.replace('T','')\n",
    "    else:\n",
    "        tag_name = i\n",
    "    new_tag_list.append(tag_name)\n",
    "sub_df['tag'] = new_tag_list"
   ]
  },
  {
   "cell_type": "code",
   "execution_count": null,
   "metadata": {},
   "outputs": [],
   "source": [
    "sub_df_group = sub_df.groupby(['tag','par']).agg(\n",
    "    distance = pd.NamedAgg(column='distance', aggfunc='sum')).reset_index()"
   ]
  },
  {
   "cell_type": "code",
   "execution_count": null,
   "metadata": {},
   "outputs": [],
   "source": [
    "pivot_sub_df = pd.pivot_table(sub_df_group,index=[\"tag\"],columns=['par'],values=[\"distance\"])['distance']"
   ]
  },
  {
   "cell_type": "code",
   "execution_count": null,
   "metadata": {},
   "outputs": [],
   "source": [
    "import matplotlib.pyplot as plt\n",
    "sns.set_context({\"figure.figsize\":(20,8)})\n",
    "fig = sns.heatmap(data=pivot_sub_df,square=True,cmap = 'Blues',annot=True)\n",
    "plt.title('R6_41hAPF')\n",
    "scatter_fig = fig.get_figure()\n",
    "scatter_fig.savefig('./heatmap.png', dpi = 400)"
   ]
  },
  {
   "cell_type": "markdown",
   "metadata": {},
   "source": [
    "# accumulative sum (line plot and box plot)"
   ]
  },
  {
   "cell_type": "code",
   "execution_count": null,
   "metadata": {},
   "outputs": [],
   "source": [
    "par_summary = sub_df.groupby(['par']).agg(\n",
    "    sum_distance = pd.NamedAgg(column='distance', aggfunc='sum')).reset_index()"
   ]
  },
  {
   "cell_type": "code",
   "execution_count": null,
   "metadata": {},
   "outputs": [],
   "source": [
    "par_summary['par_value'] = par_summary.par.apply(lambda x: \n",
    "                                                 float(x.replace('loG','')))"
   ]
  },
  {
   "cell_type": "code",
   "execution_count": null,
   "metadata": {},
   "outputs": [],
   "source": [
    "from plotnine import *\n",
    "p1 = (ggplot(par_summary,aes('par_value','sum_distance'))\n",
    "+ geom_line(colour='red')\n",
    "+ geom_point(colour='blue')\n",
    "+ xlab('log')\n",
    "+ ylab('sum_distance')\n",
    "+ theme(figure_size=(8,4))\n",
    "#+ theme(figure_size=(8,4),text=element_text(family='FangSong'))\n",
    "+ ggtitle('R6_41hAPF'))\n",
    "#+ geom_text(aes('par_value','sum_distance',label='sum_distance')))\n",
    "p1.save('./line.png')"
   ]
  },
  {
   "cell_type": "code",
   "execution_count": null,
   "metadata": {},
   "outputs": [],
   "source": [
    "p1"
   ]
  },
  {
   "cell_type": "code",
   "execution_count": null,
   "metadata": {},
   "outputs": [],
   "source": [
    "p2 = (ggplot(sub_df_group,aes('par','distance',fill='par'))\n",
    "+ geom_boxplot()\n",
    "+ xlab('log')\n",
    "+ ylab('distance')\n",
    "+ theme(figure_size=(8,4),text=element_text(family='FangSong'))\n",
    "+ ggtitle('R6_41hAPF'))\n",
    "p2.save('./boxplot.png')"
   ]
  },
  {
   "cell_type": "code",
   "execution_count": null,
   "metadata": {},
   "outputs": [],
   "source": [
    "p2"
   ]
  }
 ],
 "metadata": {
  "hide_input": false,
  "kernelspec": {
   "display_name": "Python 3",
   "language": "python",
   "name": "python3"
  },
  "language_info": {
   "codemirror_mode": {
    "name": "ipython",
    "version": 3
   },
   "file_extension": ".py",
   "mimetype": "text/x-python",
   "name": "python",
   "nbconvert_exporter": "python",
   "pygments_lexer": "ipython3",
   "version": "3.8.5"
  },
  "toc": {
   "base_numbering": 1,
   "nav_menu": {},
   "number_sections": true,
   "sideBar": true,
   "skip_h1_title": false,
   "title_cell": "Table of Contents",
   "title_sidebar": "Contents",
   "toc_cell": false,
   "toc_position": {
    "height": "calc(100% - 180px)",
    "left": "10px",
    "top": "150px",
    "width": "196.929px"
   },
   "toc_section_display": true,
   "toc_window_display": true
  }
 },
 "nbformat": 4,
 "nbformat_minor": 5
}
